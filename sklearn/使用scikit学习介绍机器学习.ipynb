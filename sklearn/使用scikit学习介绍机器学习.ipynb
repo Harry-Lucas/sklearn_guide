{
 "cells": [
  {
   "cell_type": "markdown",
   "metadata": {},
   "source": [
    "## 机器学习：问题设置\n",
    "\n",
    "#### 一般来说，学习问题考虑了一组n 个数据样本，然后尝试预测未知数据的属性。如果每个样本多于单个数字，并且例如多维条目（也称为多变量 数据），则称其具有多个属性或特征。我们可以分开几个大类的学习问题：\n",
    "\n",
    "##### (1)监督学习，其中数据带有我们想要预测的附加属性（点击此处 转到scikit学习监督学习页面）。这个问题可以是：\n",
    "\n",
    "##### (2)分类：样本属于两个或更多个类，我们想从已经标记的数据中学习如何预测未标记数据的类别。分类问题的一个例子是手写数字识别示例，其目的是将每个输入向量分配给有限数目的离散类别之一。考虑分类的另一种方法是作为监督学习的离散（而不是连续的）形式，其中有一个类型有限，并且对于所提供的n个样本中的每一个，一个是尝试用正确的类别或类别来标记它们。\n",
    "\n",
    "###### (3)回归：如果期望的输出由一个或多个连续变量组成，则该任务称为回归。回归问题的一个例子是预测鲑鱼的长度是其年龄和体重的函数。\n",
    "\n",
    "##### (4)无监督学习，其中训练数据由没有任何相应目标值的一组输入向量x组成。这种问题的目标可能是在数据中发现类似示例的组，称为聚类，或者确定输入空间内的数据分布，称为 密度估计，或从高维数据投影数据空间缩小到二维或三维以进行可视化 （点击此处 转到Scikit-Learn无监督学习页面）。\n",
    "\n",
    "##### (5)培训集和测试集\n",
    "\n",
    "##### 机器学习是关于学习数据集的某些属性并将其应用于新数据。这就是为什么在机器的普遍做法学习评价的算法是手头上的数据分成两组，一个是我们所说的训练集上，我们了解到，我们称之为数据属性和一个测试集 上，我们测试这些属性。"
   ]
  },
  {
   "cell_type": "code",
   "execution_count": 14,
   "metadata": {
    "collapsed": false
   },
   "outputs": [],
   "source": [
    "#网页：http://scikit-learn.org/stable/tutorial/basic/tutorial.html#learning-and-predicting\n",
    "#导入数据(sklearn自带数据)\n",
    "from sklearn import datasets\n",
    "iris = datasets.load_iris()\n",
    "digits = datasets.load_digits()"
   ]
  },
  {
   "cell_type": "code",
   "execution_count": 15,
   "metadata": {
    "collapsed": false
   },
   "outputs": [
    {
     "data": {
      "text/plain": [
       "SVC(C=1.0, cache_size=200, class_weight=None, coef0=0.0,\n",
       "  decision_function_shape='ovr', degree=3, gamma='auto', kernel='rbf',\n",
       "  max_iter=-1, probability=False, random_state=None, shrinking=True,\n",
       "  tol=0.001, verbose=False)"
      ]
     },
     "execution_count": 15,
     "metadata": {},
     "output_type": "execute_result"
    }
   ],
   "source": [
    "# 学习和预测\n",
    "#估计器的一个例子是sklearn.svm.SVC实现支持向量分类的类。估计器的构造函数以模型的参数为参数，但目前我们将把估计器视为黑盒子：\n",
    "from sklearn import svm\n",
    "# 选择模型的参数\n",
    "#clf = svm.SVC()\n",
    "clf = svm.SVC(gamma=0.001, C=100.)\n",
    "# 在这个例子中，我们设置gamma手动的值。通过使用网格搜索和交叉验证等工具，可以自动找到参数的良好值。\n",
    "clf.fit(digits.data[:-1], digits.target[:-1])  "
   ]
  },
  {
   "cell_type": "code",
   "execution_count": 16,
   "metadata": {
    "collapsed": false
   },
   "outputs": [
    {
     "name": "stdout",
     "output_type": "stream",
     "text": [
      "[5]\n"
     ]
    }
   ],
   "source": [
    "#进行预测返回向量\n",
    "data=clf.predict(digits.data[-1:])\n",
    "print(data)"
   ]
  },
  {
   "cell_type": "code",
   "execution_count": 31,
   "metadata": {
    "collapsed": false
   },
   "outputs": [
    {
     "name": "stdout",
     "output_type": "stream",
     "text": [
      "[0]\n",
      "[0]\n"
     ]
    }
   ],
   "source": [
    "#模型持久性\n",
    "## 生成模型\n",
    "from sklearn import svm\n",
    "from sklearn import datasets\n",
    "clf = svm.SVC()\n",
    "iris = datasets.load_iris()\n",
    "X, y = iris.data, iris.target\n",
    "clf.fit(X, y)\n",
    "##Python的内置持久性模型（即pickle）将模型保存在scikit中：\n",
    "import pickle\n",
    "s = pickle.dumps(clf)\n",
    "##使用模型\n",
    "clf2 = pickle.loads(s)\n",
    "print(clf2.predict(X[0:1]))\n",
    "\n",
    "##将数据保存到磁盘(sklearn_svm_SVC.pkl)中\n",
    "from sklearn.externals import joblib\n",
    "joblib.dump(clf, 'sklearn_svm_SVC.pkl') \n",
    "## 使用训练的数据\n",
    "clf2 = joblib.load('sklearn_svm_SVC.pkl') \n",
    "print(clf2.predict(X[0:1]))"
   ]
  },
  {
   "cell_type": "code",
   "execution_count": 41,
   "metadata": {
    "collapsed": false
   },
   "outputs": [
    {
     "name": "stdout",
     "output_type": "stream",
     "text": [
      "float64\n",
      "float32\n",
      "float64\n"
     ]
    }
   ],
   "source": [
    "# 类型转换\n",
    "# 除非另有规定，不然默认将被转换为float64：\n",
    "import numpy as np\n",
    "from sklearn import random_projection\n",
    "\n",
    "rng = np.random.RandomState(0)\n",
    "X = rng.rand(10, 2000)#生成10*2000的二位数组,默认为float64\n",
    "print(X.dtype)\n",
    "X = np.array(X, dtype='float32')\n",
    "print(X.dtype)\n",
    "\n",
    "transformer = random_projection.GaussianRandomProjection()#将数据本为float32，执行后将被转化为float64位\n",
    "X_new = transformer.fit_transform(X)\n",
    "print(X_new.dtype)"
   ]
  },
  {
   "cell_type": "code",
   "execution_count": 61,
   "metadata": {
    "collapsed": false
   },
   "outputs": [
    {
     "name": "stdout",
     "output_type": "stream",
     "text": [
      "[0 0 0]\n",
      "['setosa' 'setosa' 'setosa']\n"
     ]
    }
   ],
   "source": [
    "# 维护分类目标：\n",
    "from sklearn import datasets\n",
    "from sklearn.svm import SVC\n",
    "iris = datasets.load_iris()\n",
    "clf = SVC()\n",
    "clf.fit(iris.data, iris.target)  \n",
    "print(clf.predict(iris.data[:3]))\n",
    "#print(iris.target)\n",
    "clf.fit(iris.data, iris.target_names[iris.target])  \n",
    "print(clf.predict(iris.data[:3]))\n",
    "#这里，第一个predict()返回整数数组，因为iris.target 使用了一个整数数组fit。第二个predict()返回一个字符串数组，因为iris.target_names是用于拟合。"
   ]
  },
  {
   "cell_type": "code",
   "execution_count": 53,
   "metadata": {
    "collapsed": false
   },
   "outputs": [
    {
     "name": "stdout",
     "output_type": "stream",
     "text": [
      "[1 0 0 1 0 1 1 0 0 1 1 0 0 0 0 0 0 0 1 1 0 1 1 1 1 1 0 0 1 0 0 0 1 1 1 0 0\n",
      " 0 0 1 0 0 1 1 0 0 1 1 0 1 0 0 0 0 1 0 0 1 1 1 1 0 0 0 1 0 0 1 1 0 0 1 0 0\n",
      " 1 0 0 1 1 1 0 1 0 1 1 1 0 1 1 1 0 0 1 1 0 1 0 1 1 1] 100\n",
      "[1 0 1 1 0]\n",
      "[0 0 0 1 0]\n"
     ]
    }
   ],
   "source": [
    "# 修改和更新参数\n",
    "import numpy as np\n",
    "from sklearn.svm import SVC\n",
    "\n",
    "rng = np.random.RandomState(0)\n",
    "X = rng.rand(100, 10)\n",
    "y = rng.binomial(1, 0.5, 100)\n",
    "X_test = rng.rand(5, 10)\n",
    "print(y,len(y))\n",
    "\n",
    "clf = SVC()\n",
    "clf.set_params(kernel='linear').fit(X, y)  \n",
    "print(clf.predict(X_test))\n",
    "clf.set_params(kernel='rbf').fit(X, y)  \n",
    "print(clf.predict(X_test))\n",
    "# 在这里，默认内核rbf首先被改变到linear估计器被构造之后SVC()，并且改回到rbf重新设计估计器并进行第二预测。"
   ]
  },
  {
   "cell_type": "code",
   "execution_count": 69,
   "metadata": {
    "collapsed": false
   },
   "outputs": [
    {
     "name": "stdout",
     "output_type": "stream",
     "text": [
      "[0 0 1 1 2]\n",
      "[[1 0 0]\n",
      " [1 0 0]\n",
      " [0 1 0]\n",
      " [0 0 0]\n",
      " [0 0 0]]\n"
     ]
    }
   ],
   "source": [
    "# 多类与多标签拟合\n",
    "# 使用时，所执行的学习和预测任务取决于适合的目标数据的格式：multiclass classifiers\n",
    "from sklearn.svm import SVC\n",
    "from sklearn.multiclass import OneVsRestClassifier\n",
    "from sklearn.preprocessing import LabelBinarizer\n",
    "\n",
    "X = [[1, 2], [2, 4], [4, 5], [3, 2], [3, 1]]\n",
    "y = [0, 0, 1, 1, 2]\n",
    "\n",
    "classif = OneVsRestClassifier(estimator=SVC(random_state=0))\n",
    "print(classif.fit(X, y).predict(X))\n",
    "# 在上述情况下，分类器适合于多类标签的1d阵列，predict()因此该方法提供了相应的多类预测。还可以使用二维标签二维数组：\n",
    "y = LabelBinarizer().fit_transform(y)\n",
    "print(classif.fit(X, y).predict(X))\n",
    "# 这里，分类器是fit() 上的2D二进制标记表示y，使用LabelBinarizer。在这种情况下，predict()返回一个表示相应多重标签预测的2d数组。\n",
    "# 请注意，第四个和第五个实例返回所有零，表示它们没有匹配三个标签fit。"
   ]
  },
  {
   "cell_type": "code",
   "execution_count": 81,
   "metadata": {
    "collapsed": false
   },
   "outputs": [
    {
     "name": "stdout",
     "output_type": "stream",
     "text": [
      "[[1 1 0 0 0]\n",
      " [1 0 1 0 0]\n",
      " [0 1 1 1 0]\n",
      " [1 0 1 1 0]\n",
      " [0 1 1 0 1]]\n",
      "[[1 1 0 0 0]\n",
      " [1 0 1 0 0]\n",
      " [0 1 1 1 0]\n",
      " [1 1 1 0 0]\n",
      " [1 1 1 0 0]]\n"
     ]
    }
   ],
   "source": [
    "# 使用multilabel输出，类似地可以为一个实例分配多个标签：\n",
    "\n",
    "from sklearn.preprocessing import MultiLabelBinarizer\n",
    "X = [[1, 2], [2, 4], [4, 5], [3, 2], [3, 1]]\n",
    "y = [[0, 1], [0, 2], [1,2, 3], [0, 2, 3], [1,2,4]]\n",
    "classif = OneVsRestClassifier(estimator=SVC(random_state=0))\n",
    "y = MultiLabelBinarizer().fit_transform(y)\n",
    "print(y)\n",
    "print(classif.fit(X, y).predict(X))\n",
    "# 在这种情况下，分类器适合每个分配多个标签的实例。所述MultiLabelBinarizer用于multilabels的2D阵列以二进制化fit时。因此， predict()返回具有每个实例的多个预测标签的2d数组。"
   ]
  }
 ],
 "metadata": {
  "kernelspec": {
   "display_name": "Python [Root]",
   "language": "python",
   "name": "Python [Root]"
  },
  "language_info": {
   "codemirror_mode": {
    "name": "ipython",
    "version": 3
   },
   "file_extension": ".py",
   "mimetype": "text/x-python",
   "name": "python",
   "nbconvert_exporter": "python",
   "pygments_lexer": "ipython3",
   "version": "3.5.2"
  }
 },
 "nbformat": 4,
 "nbformat_minor": 0
}
