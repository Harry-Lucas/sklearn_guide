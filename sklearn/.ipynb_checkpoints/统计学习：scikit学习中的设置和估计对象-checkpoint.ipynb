{
 "cells": [
  {
   "cell_type": "markdown",
   "metadata": {},
   "source": [
    "# 统计学习\n",
    "#### 机器学习是一个越来越重要的技术，因为数据集实验科学面临的规模正在迅速增长。\n",
    "#### 它处理的问题范围从构建一个连接不同观察值的预测函数，分类观察值，或者在未标记的数据集中学习结构。\n",
    "#### 本教程将探讨统计学习，使用机器学习技术与统计推断的目标：对手头的数据作出结论。\n",
    "#### Scikit-learning是一个Python模块，将经典机器学习算法整合在科学Python包（NumPy，SciPy，matplotlib）紧密编织的世界中。"
   ]
  },
  {
   "cell_type": "markdown",
   "metadata": {},
   "source": [
    "# 数据集\n",
    "\n",
    "#### Scikit学习处理来自用2D数组表示的一个或多个数据集的学习信息。\n",
    "#### 它们可以被理解为多维观察的列表。我们说这些阵列的第一个轴是样本轴，而第二个轴是 特征轴。"
   ]
  },
  {
   "cell_type": "code",
   "execution_count": 1,
   "metadata": {
    "collapsed": false
   },
   "outputs": [
    {
     "name": "stdout",
     "output_type": "stream",
     "text": [
      "(150, 4)\n"
     ]
    }
   ],
   "source": [
    "# scikit：iris数据集附带的一个简单示例\n",
    "from sklearn import datasets\n",
    "iris = datasets.load_iris()\n",
    "data = iris.data\n",
    "print(data.shape)\n",
    "# 它由150个鸢尾观察组成，每个由4个特征描述：它们的萼片和花瓣的长度和宽度，详见 iris.DESCR。"
   ]
  },
  {
   "cell_type": "markdown",
   "metadata": {},
   "source": [
    "#### 当数据最初没有形状时，需要进行预处理才能被scikit学习使用。(n_samples, n_features)\n",
    "#### 重新整形数据的一个例子是数字数据集\n",
    "#### 数字数据集由手写数字的1797 8×8图像组成"
   ]
  },
  {
   "cell_type": "code",
   "execution_count": 4,
   "metadata": {
    "collapsed": false
   },
   "outputs": [
    {
     "name": "stdout",
     "output_type": "stream",
     "text": [
      "[[  0.   0.   5. ...,   0.   0.   0.]\n",
      " [  0.   0.   0. ...,  10.   0.   0.]\n",
      " [  0.   0.   0. ...,  16.   9.   0.]\n",
      " ..., \n",
      " [  0.   0.   1. ...,   6.   0.   0.]\n",
      " [  0.   0.   2. ...,  12.   0.   0.]\n",
      " [  0.   0.  10. ...,  12.   1.   0.]]\n"
     ]
    },
    {
     "data": {
      "image/png": "[encoded data removed]",
      "text/plain": [
       "<matplotlib.figure.Figure at 0x80b6748>"
      ]
     },
     "metadata": {},
     "output_type": "display_data"
    }
   ],
   "source": [
    "digits = datasets.load_digits()\n",
    "digits.images.shape\n",
    "import matplotlib.pyplot as plt \n",
    "%matplotlib inline\n",
    "plt.imshow(digits.images[-1], cmap=plt.cm.gray_r) \n",
    "# 要将此数据集与scikit一起使用，我们将每个8x8图像转换为长度为64的特征向量\n",
    "data = digits.images.reshape((digits.images.shape[0], -1))\n",
    "print(data)"
   ]
  },
  {
   "cell_type": "markdown",
   "metadata": {},
   "source": [
    "## 估计对象\n",
    "\n",
    "#### 拟合数据：由scikit学习实现的主要API是 估计量。\n",
    "#### 估计是从数据中学习的任何对象; 它可能是从原始数据中提取/过滤有用特征的分类，回归或聚类算法或变换器。"
   ]
  }
 ],
 "metadata": {
  "anaconda-cloud": {},
  "kernelspec": {
   "display_name": "Python [Root]",
   "language": "python",
   "name": "Python [Root]"
  },
  "language_info": {
   "codemirror_mode": {
    "name": "ipython",
    "version": 3
   },
   "file_extension": ".py",
   "mimetype": "text/x-python",
   "name": "python",
   "nbconvert_exporter": "python",
   "pygments_lexer": "ipython3",
   "version": "3.5.2"
  }
 },
 "nbformat": 4,
 "nbformat_minor": 0
}
