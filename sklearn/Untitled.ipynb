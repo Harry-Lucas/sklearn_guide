{
 "cells": [
  {
   "cell_type": "markdown",
   "metadata": {},
   "source": [
    "# 监督学习：从高维观察中预测输出变量\n",
    "### 在监督学习中解决了这个问题\n",
    "#### 监督学习 包括学习两个数据集之间的联系：观察数据X和y我们试图预测的外部变量，通常称为“目标”或“标签”。最常见的 y是长度为1D的1D阵列n_samples。\n",
    "#### scikit-learn中的所有监督估计器都实现了一种适合模型的方法，并给出了一种方法，给定未标记的观察值，返回预测标签。fit(X, y)predict(X)Xy\n",
    "### 词汇：分类和回归\n",
    "#### 如果预测任务是在一组有限标签中对观测值进行分类，换句话说，将“观察到”对象命名，则该任务被称为分类任务。另一方面，如果目标是预测连续的目标变量，则被认为是 回归任务。\n",
    "#### 在scikit-learn中进行分类时，y是整数或字符串的向量。"
   ]
  },
  {
   "cell_type": "markdown",
   "metadata": {},
   "source": [
    "## 最近的邻居和维度的诅咒\n",
    "\n",
    "## 虹膜分类：\n",
    "### 虹膜数据集是一个分类任务，包括从花瓣和萼片的长度和宽度确定3种不同类型的虹膜（Setosa，Versichelour和Virginica）："
   ]
  },
  {
   "cell_type": "code",
   "execution_count": 1,
   "metadata": {
    "collapsed": false
   },
   "outputs": [
    {
     "data": {
      "text/plain": [
       "array([0, 1, 2])"
      ]
     },
     "execution_count": 1,
     "metadata": {},
     "output_type": "execute_result"
    }
   ],
   "source": [
    "import numpy as np\n",
    "from sklearn import datasets\n",
    "iris = datasets.load_iris()\n",
    "iris_X = iris.data\n",
    "iris_y = iris.target\n",
    "np.unique(iris_y)"
   ]
  },
  {
   "cell_type": "markdown",
   "metadata": {},
   "source": [
    "## K-最近邻分类(k-Nearest neighbors classifier¶)\n",
    "\n",
    "#### 最简单的分类器是 最近的邻居：给定一个新的观察X_test结果，在最近的特征向量的训练集（即用于训练估计的数据）中找到观测值。\n",
    "#### （有关此类型分类器的更多信息，请参阅在线Scikit学习文档的最近邻居部分。）\n",
    "#### 培训集和测试集\n",
    "#### 在试验任何学习算法的同时，重要的是不要测试估计器对用于拟合估计器的数据的预测，因为这不会评估估计器对新数据的性能。这就是为什么数据集经常被分为 列车和测试数据。"
   ]
  },
  {
   "cell_type": "code",
   "execution_count": 2,
   "metadata": {
    "collapsed": false
   },
   "outputs": [
    {
     "name": "stdout",
     "output_type": "stream",
     "text": [
      "[1 2 1 0 0 0 2 1 2 0]\n",
      "[1 1 1 0 0 0 2 1 2 0]\n"
     ]
    }
   ],
   "source": [
    "# 在列车中分割虹膜数据和测试数据\n",
    "# 随机排列，随机分割数据\n",
    "np.random.seed(0)\n",
    "indices = np.random.permutation(len(iris_X))\n",
    "iris_X_train = iris_X[indices[:-10]]\n",
    "iris_y_train = iris_y[indices[:-10]]\n",
    "iris_X_test  = iris_X[indices[-10:]]\n",
    "iris_y_test  = iris_y[indices[-10:]]\n",
    "# Create and fit a nearest-neighbor classifier\n",
    "from sklearn.neighbors import KNeighborsClassifier\n",
    "knn = KNeighborsClassifier()\n",
    "knn.fit(iris_X_train, iris_y_train) \n",
    "KNeighborsClassifier(algorithm='auto', leaf_size=30, metric='minkowski',\n",
    "           metric_params=None, n_jobs=1, n_neighbors=5, p=2,\n",
    "           weights='uniform')\n",
    "print(knn.predict(iris_X_test))\n",
    "print(iris_y_test)"
   ]
  }
 ],
 "metadata": {
  "anaconda-cloud": {},
  "kernelspec": {
   "display_name": "Python [Root]",
   "language": "python",
   "name": "Python [Root]"
  },
  "language_info": {
   "codemirror_mode": {
    "name": "ipython",
    "version": 3
   },
   "file_extension": ".py",
   "mimetype": "text/x-python",
   "name": "python",
   "nbconvert_exporter": "python",
   "pygments_lexer": "ipython3",
   "version": "3.5.2"
  }
 },
 "nbformat": 4,
 "nbformat_minor": 0
}
